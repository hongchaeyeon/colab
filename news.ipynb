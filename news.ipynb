{
  "nbformat": 4,
  "nbformat_minor": 0,
  "metadata": {
    "colab": {
      "provenance": [],
      "authorship_tag": "ABX9TyOY5BjQjJpsXym/FaQjy174",
      "include_colab_link": true
    },
    "kernelspec": {
      "name": "python3",
      "display_name": "Python 3"
    },
    "language_info": {
      "name": "python"
    }
  },
  "cells": [
    {
      "cell_type": "markdown",
      "metadata": {
        "id": "view-in-github",
        "colab_type": "text"
      },
      "source": [
        "<a href=\"https://colab.research.google.com/github/hongchaeyeon/colab/blob/main/news.ipynb\" target=\"_parent\"><img src=\"https://colab.research.google.com/assets/colab-badge.svg\" alt=\"Open In Colab\"/></a>"
      ]
    },
    {
      "cell_type": "code",
      "execution_count": 40,
      "metadata": {
        "colab": {
          "base_uri": "https://localhost:8080/"
        },
        "id": "vp6NKgFIeM5G",
        "outputId": "69a15f9c-47a4-4bfb-94c9-f7723bdfc88c"
      },
      "outputs": [
        {
          "output_type": "stream",
          "name": "stdout",
          "text": [
            "1 번 째 뉴스입니다. : ‘스토킹 피해’ 지하철 역무원 피살…선고 앞두고 보복\n",
            "2 번 째 뉴스입니다. : [문화광장] 오영수 춤·이정재 데뷔작…‘오징어 게임’ 화제 만발\n",
            "3 번 째 뉴스입니다. : 태풍 ‘난마돌’ 북상…다음 주 초 제주·영남해안 영향\n",
            "4 번 째 뉴스입니다. : [영상] 윤 대통령, ‘태양광’ 부정 적발에 “혈세가 ‘이권 카르텔’ 비리에 사용”\n",
            "5 번 째 뉴스입니다. : 서민 간식 치킨까지 점령한 1위 사모펀드…‘상생’의 길은?\n",
            "6 번 째 뉴스입니다. : 뉴질랜드 가방 속 어린이 시신…친모 추정 피의자 울산서 검거\n",
            "7 번 째 뉴스입니다. : [여심야심] ‘김건희 특검’ 반대에 맹폭…“노이즈마케팅 조연 안 해”\n",
            "8 번 째 뉴스입니다. : [단독] 신당역 역무원 살해한 남성, 선고 하루 전 범행\n",
            "9 번 째 뉴스입니다. : ‘청주 중학생 성폭행·투신’…대법, 계부에 징역 25년 확정\n",
            "10 번 째 뉴스입니다. : 그린피스 등 “삼성 RE100 가입 환영, 2050년 목표 너무 늦어”\n",
            "11 번 째 뉴스입니다. : 코로나19·독감 동시대비…“독감 예방접종 순차 시작”\n",
            "12 번 째 뉴스입니다. : WHO 총장 “코로나19 대유행 끝이 보인다…사망자 수 최저”\n",
            "13 번 째 뉴스입니다. : 오늘부터 안심전환대출 접수…신청 대상과 방법은?\n",
            "14 번 째 뉴스입니다. : 천연가스에 LPG 혼입한다…“다가오는 겨울 대비해야”\n",
            "15 번 째 뉴스입니다. : 안심전환대출 내일(15일)부터 접수…집값 4억·부부소득 7천만원 이하\n",
            "16 번 째 뉴스입니다. : [오후날씨 꿀팁] 서쪽 지역 늦더위…내일 중부에 비\n",
            "17 번 째 뉴스입니다. : 뉴질랜드 가방 속 어린이 시신…피의자 울산에서 검거\n",
            "18 번 째 뉴스입니다. : 서방 지도자들 “푸틴 태도 안 변해…우크라 전쟁 종식 멀어”\n",
            "19 번 째 뉴스입니다. : 검찰, ‘테라·루나 사태’ 권도형 대표 체포영장 발부\n",
            "20 번 째 뉴스입니다. : “일본, 내달 무비자 개인여행 허용 검토…엔저 관광객 기대”\n"
          ]
        }
      ],
      "source": [
        "import requests\n",
        "from bs4 import BeautifulSoup as bs\n",
        "page=requests.get(\"https://media.naver.com/press/056/ranking?type=popular\")\n",
        "soup = bs(page.text, \"html.parser\")\n",
        "news = soup.findAll(\"strong\",{\"class\":\"list_title\"})\n",
        "for i in range(len(news)):\n",
        "    print(i+1,\"번 째 뉴스입니다. :\", news[i].text)\n",
        "    sleep(2)\n"
      ]
    }
  ]
}