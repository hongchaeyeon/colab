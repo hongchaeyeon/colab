{
  "nbformat": 4,
  "nbformat_minor": 0,
  "metadata": {
    "colab": {
      "provenance": [],
      "authorship_tag": "ABX9TyPASQYqmfzy40qV3GuMzsA+",
      "include_colab_link": true
    },
    "kernelspec": {
      "name": "python3",
      "display_name": "Python 3"
    },
    "language_info": {
      "name": "python"
    }
  },
  "cells": [
    {
      "cell_type": "markdown",
      "metadata": {
        "id": "view-in-github",
        "colab_type": "text"
      },
      "source": [
        "<a href=\"https://colab.research.google.com/github/hongchaeyeon/colab/blob/main/Lesson5.ipynb\" target=\"_parent\"><img src=\"https://colab.research.google.com/assets/colab-badge.svg\" alt=\"Open In Colab\"/></a>"
      ]
    },
    {
      "cell_type": "code",
      "execution_count": 1,
      "metadata": {
        "colab": {
          "base_uri": "https://localhost:8080/"
        },
        "id": "HMWVsHk4zXD-",
        "outputId": "efddbbcc-0b3c-4706-d4ff-121d5d9e6b80"
      },
      "outputs": [
        {
          "output_type": "stream",
          "name": "stdout",
          "text": [
            "100보다 작습니다.\n"
          ]
        }
      ],
      "source": [
        "num = 99\n",
        "if num < 100 :\n",
        "  print(\"100보다 작습니다.\")"
      ]
    },
    {
      "cell_type": "markdown",
      "source": [
        "if~else 예제"
      ],
      "metadata": {
        "id": "WuHh7ma-4rXL"
      }
    },
    {
      "cell_type": "code",
      "source": [
        "num = 200\n",
        "if num < 100 :\n",
        "  print(\"100보다 작군요.\")\n",
        "else :\n",
        "  print(\"100보다 크군요.\")"
      ],
      "metadata": {
        "colab": {
          "base_uri": "https://localhost:8080/"
        },
        "id": "warcHSQx4PWj",
        "outputId": "8798c7a5-cdff-4b1d-955c-520e9272d25d"
      },
      "execution_count": 2,
      "outputs": [
        {
          "output_type": "stream",
          "name": "stdout",
          "text": [
            "100보다 크군요.\n"
          ]
        }
      ]
    },
    {
      "cell_type": "code",
      "source": [
        "num = int(input(\"숫자 입력:\"))\n",
        "if num%2 == 0 :\n",
        "  print(\"짝수입니다.\")\n",
        "else :\n",
        "  print(\"홀수입니다.\")"
      ],
      "metadata": {
        "colab": {
          "base_uri": "https://localhost:8080/"
        },
        "id": "K2VARUdI46yb",
        "outputId": "ee5fb51c-4ac3-43ee-a24f-7eefb60656d2"
      },
      "execution_count": 9,
      "outputs": [
        {
          "output_type": "stream",
          "name": "stdout",
          "text": [
            "숫자 입력:9\n",
            "홀수입니다.\n"
          ]
        }
      ]
    },
    {
      "cell_type": "code",
      "source": [
        "num = int(input(\"숫자 입력:\"))\n",
        "  \n",
        "if num > 100 :\n",
        "   if num <1000 :\n",
        "     print(\"100보다 크고 1000보다 작다.\")\n",
        "   else :\n",
        "    print(\"1000보다 크다.\") \n",
        "else :\n",
        "    print(\"100보다 작다.\")\n"
      ],
      "metadata": {
        "colab": {
          "base_uri": "https://localhost:8080/"
        },
        "id": "mmZ7M31F7SEM",
        "outputId": "6dc621d9-3494-4b6f-a9d7-3dd0f21c5969"
      },
      "execution_count": 19,
      "outputs": [
        {
          "output_type": "stream",
          "name": "stdout",
          "text": [
            "숫자 입력:56\n",
            "100보다 작다.\n"
          ]
        }
      ]
    },
    {
      "cell_type": "code",
      "source": [
        "score = int(input(\"학점을 입력하세요:\"))\n",
        "if score >= 90 :\n",
        "  print(\"A학점입니다.\")\n",
        "else :\n",
        "  if score >=80 :\n",
        "    print(\"B학점입니다.\")\n",
        "  else :\n",
        "    if score >=70 :\n",
        "      print(\"C학점입니다.\")\n",
        "    else :\n",
        "      if score >=60 :\n",
        "        print(\"D학점입니다.\")\n",
        "      else :\n",
        "        print(\"F학점입니다.\")"
      ],
      "metadata": {
        "colab": {
          "base_uri": "https://localhost:8080/"
        },
        "id": "fqI_8qjg_2EM",
        "outputId": "fbd2aee5-712d-4d98-d907-1f2099893b41"
      },
      "execution_count": 29,
      "outputs": [
        {
          "output_type": "stream",
          "name": "stdout",
          "text": [
            "학점을 입력하세요:58\n",
            "F학점입니다.\n"
          ]
        }
      ]
    },
    {
      "cell_type": "code",
      "source": [
        "score = int(input(\"학점을 입력하세요:\"))\n",
        "if score >= 90 :\n",
        "  print(\"A\",end='')\n",
        "elif score >=80 :\n",
        "      print(\"B\",end='')\n",
        "elif score >=70 :\n",
        "      print(\"C\",end='')\n",
        "elif score >=60 :\n",
        "        print(\"D\",end='')\n",
        "else :\n",
        "        print(\"F\",end='')\n",
        "        print(\"학점입니다.\")"
      ],
      "metadata": {
        "colab": {
          "base_uri": "https://localhost:8080/"
        },
        "id": "7rKOabALDAh9",
        "outputId": "c6c9031c-5801-4d9f-95f9-be6e84cff0e0"
      },
      "execution_count": 31,
      "outputs": [
        {
          "output_type": "stream",
          "name": "stdout",
          "text": [
            "학점을 입력하세요:98\n",
            "A"
          ]
        }
      ]
    },
    {
      "cell_type": "code",
      "source": [
        "import random\n",
        "\n",
        "rnd = random.randint(1,45)\n",
        "lunch = random.choice([\"짜장면\",\"라면\",\"김밥\",\"짬뽕\"])\n",
        "print(rnd,lunch)"
      ],
      "metadata": {
        "colab": {
          "base_uri": "https://localhost:8080/"
        },
        "id": "Qc77D9t-FYNe",
        "outputId": "37d5305b-abdb-4d6f-cfb0-47140507f615"
      },
      "execution_count": 35,
      "outputs": [
        {
          "output_type": "stream",
          "name": "stdout",
          "text": [
            "44 짜장면\n"
          ]
        }
      ]
    },
    {
      "cell_type": "code",
      "source": [
        "import random\n",
        "\n",
        "com_plyaer , user , count = \"\", \"\", 1\n",
        "com_count ,usr_count , draw_count = 0, 0, 0\n",
        "\n",
        "def result() :\n",
        "  global com_count, usr_count, draw_count\n",
        "  if com_player == user :\n",
        "    print(count, \"번째 : \" + \"비겼습니다.\")\n",
        "    draw_count += 1\n",
        "  elif ((com_player == \"가위\") and (user == \"바위\")) or \\\n",
        "  ((com_player == \"바위\") and (user == \"보\")) or \\\n",
        "  ((com_player == \"보\") and (user == \"가위\")) :\n",
        "    print(count, \"번째 : \" + \"이겼습니다.\")\n",
        "    usr_count += 1\n",
        "  else :\n",
        "    print(count, \"번째 : \" + \"졌습니다.\")\n",
        "    com_count += 1\n",
        "\n",
        "print(\" ** [가위/바위/보] 게임 **\")\n",
        "\n",
        "while count != 8 :\n",
        "  com_player = random.choice([\"가위\", \"바위\", \"보\"])\n",
        "  user = input(\"가위/바위/보 중 하나를 입력 : \")\n",
        "  result()\n",
        "  count = count + 1\n",
        "\n",
        "print(\"====== 최종 스코어 ======\")\n",
        "print(\"컴퓨터 : \", com_count)\n",
        "print(\"사용자 : \", usr_count)\n",
        "print(\"비김 : \", draw_count)"
      ],
      "metadata": {
        "colab": {
          "base_uri": "https://localhost:8080/"
        },
        "id": "su4JxrysFhnk",
        "outputId": "4812cbb2-de79-479e-b494-e91bb9f22b1d"
      },
      "execution_count": 48,
      "outputs": [
        {
          "output_type": "stream",
          "name": "stdout",
          "text": [
            " ** [가위/바위/보] 게임 **\n",
            "가위/바위/보 중 하나를 입력 : 가위\n",
            "1 번째 : 졌습니다.\n",
            "가위/바위/보 중 하나를 입력 : 바위\n",
            "2 번째 : 비겼습니다.\n",
            "가위/바위/보 중 하나를 입력 : 가위\n",
            "3 번째 : 이겼습니다.\n",
            "가위/바위/보 중 하나를 입력 : 보\n",
            "4 번째 : 이겼습니다.\n",
            "가위/바위/보 중 하나를 입력 : 가위\n",
            "5 번째 : 졌습니다.\n",
            "가위/바위/보 중 하나를 입력 : 가위\n",
            "6 번째 : 비겼습니다.\n",
            "가위/바위/보 중 하나를 입력 : 가ㅜ이\n",
            "7 번째 : 졌습니다.\n",
            "====== 최종 스코어 ======\n",
            "컴퓨터 :  3\n",
            "사용자 :  2\n",
            "비김 :  2\n"
          ]
        }
      ]
    }
  ]
}