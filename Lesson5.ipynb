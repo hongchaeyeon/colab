{
  "nbformat": 4,
  "nbformat_minor": 0,
  "metadata": {
    "colab": {
      "provenance": [],
      "authorship_tag": "ABX9TyMIEqsmFz4jzfepvda0waQf",
      "include_colab_link": true
    },
    "kernelspec": {
      "name": "python3",
      "display_name": "Python 3"
    },
    "language_info": {
      "name": "python"
    }
  },
  "cells": [
    {
      "cell_type": "markdown",
      "metadata": {
        "id": "view-in-github",
        "colab_type": "text"
      },
      "source": [
        "<a href=\"https://colab.research.google.com/github/hongchaeyeon/colab/blob/main/Lesson5.ipynb\" target=\"_parent\"><img src=\"https://colab.research.google.com/assets/colab-badge.svg\" alt=\"Open In Colab\"/></a>"
      ]
    },
    {
      "cell_type": "code",
      "execution_count": 1,
      "metadata": {
        "colab": {
          "base_uri": "https://localhost:8080/"
        },
        "id": "HMWVsHk4zXD-",
        "outputId": "efddbbcc-0b3c-4706-d4ff-121d5d9e6b80"
      },
      "outputs": [
        {
          "output_type": "stream",
          "name": "stdout",
          "text": [
            "100보다 작습니다.\n"
          ]
        }
      ],
      "source": [
        "num = 99\n",
        "if num < 100 :\n",
        "  print(\"100보다 작습니다.\")"
      ]
    },
    {
      "cell_type": "markdown",
      "source": [
        "if~else 예제"
      ],
      "metadata": {
        "id": "WuHh7ma-4rXL"
      }
    },
    {
      "cell_type": "code",
      "source": [
        "num = 200\n",
        "if num < 100 :\n",
        "  print(\"100보다 작군요.\")\n",
        "else :\n",
        "  print(\"100보다 크군요.\")"
      ],
      "metadata": {
        "colab": {
          "base_uri": "https://localhost:8080/"
        },
        "id": "warcHSQx4PWj",
        "outputId": "8798c7a5-cdff-4b1d-955c-520e9272d25d"
      },
      "execution_count": 2,
      "outputs": [
        {
          "output_type": "stream",
          "name": "stdout",
          "text": [
            "100보다 크군요.\n"
          ]
        }
      ]
    },
    {
      "cell_type": "code",
      "source": [
        "num = int(input(\"숫자 입력:\"))\n",
        "if num%2 == 0 :\n",
        "  print(\"짝수입니다.\")\n",
        "else :\n",
        "  print(\"홀수입니다.\")"
      ],
      "metadata": {
        "colab": {
          "base_uri": "https://localhost:8080/"
        },
        "id": "K2VARUdI46yb",
        "outputId": "ee5fb51c-4ac3-43ee-a24f-7eefb60656d2"
      },
      "execution_count": 9,
      "outputs": [
        {
          "output_type": "stream",
          "name": "stdout",
          "text": [
            "숫자 입력:9\n",
            "홀수입니다.\n"
          ]
        }
      ]
    },
    {
      "cell_type": "code",
      "source": [
        "num = int(input(\"숫자 입력:\"))\n",
        "  \n",
        "if num > 100 :\n",
        "   if num <1000 :\n",
        "     print(\"100보다 크고 1000보다 작다.\")\n",
        "   else :\n",
        "    print(\"1000보다 크다.\") \n",
        "else :\n",
        "    print(\"100보다 작다.\")\n"
      ],
      "metadata": {
        "colab": {
          "base_uri": "https://localhost:8080/"
        },
        "id": "mmZ7M31F7SEM",
        "outputId": "6dc621d9-3494-4b6f-a9d7-3dd0f21c5969"
      },
      "execution_count": 19,
      "outputs": [
        {
          "output_type": "stream",
          "name": "stdout",
          "text": [
            "숫자 입력:56\n",
            "100보다 작다.\n"
          ]
        }
      ]
    },
    {
      "cell_type": "code",
      "source": [
        "score = int(input(\"학점을 입력하세요:\"))\n",
        "if score >= 90 :\n",
        "  print(\"A학점입니다.\")\n",
        "else :\n",
        "  if score >=80 :\n",
        "    print(\"B학점입니다.\")\n",
        "  else :\n",
        "    if score >=70 :\n",
        "      print(\"C학점입니다.\")\n",
        "    else :\n",
        "      if score >=60 :\n",
        "        print(\"D학점입니다.\")\n",
        "      else :\n",
        "        print(\"F학점입니다.\")"
      ],
      "metadata": {
        "colab": {
          "base_uri": "https://localhost:8080/"
        },
        "id": "fqI_8qjg_2EM",
        "outputId": "fbd2aee5-712d-4d98-d907-1f2099893b41"
      },
      "execution_count": 29,
      "outputs": [
        {
          "output_type": "stream",
          "name": "stdout",
          "text": [
            "학점을 입력하세요:58\n",
            "F학점입니다.\n"
          ]
        }
      ]
    },
    {
      "cell_type": "code",
      "source": [
        "score = int(input(\"학점을 입력하세요:\"))\n",
        "if score >= 90 :\n",
        "  print(\"A\",end='')\n",
        "elif score >=80 :\n",
        "      print(\"B\",end='')\n",
        "elif score >=70 :\n",
        "      print(\"C\",end='')\n",
        "elif score >=60 :\n",
        "        print(\"D\",end='')\n",
        "else :\n",
        "        print(\"F\",end='')\n",
        "        print(\"학점입니다.\")"
      ],
      "metadata": {
        "colab": {
          "base_uri": "https://localhost:8080/"
        },
        "id": "7rKOabALDAh9",
        "outputId": "c6c9031c-5801-4d9f-95f9-be6e84cff0e0"
      },
      "execution_count": 31,
      "outputs": [
        {
          "output_type": "stream",
          "name": "stdout",
          "text": [
            "학점을 입력하세요:98\n",
            "A"
          ]
        }
      ]
    },
    {
      "cell_type": "code",
      "source": [
        "import random\n",
        "\n",
        "rnd = random.randint(1,45)\n",
        "lunch = random.choice([\"짜장면\",\"라면\",\"김밥\",\"짬뽕\"])\n",
        "print(rnd,lunch)"
      ],
      "metadata": {
        "colab": {
          "base_uri": "https://localhost:8080/"
        },
        "id": "Qc77D9t-FYNe",
        "outputId": "37d5305b-abdb-4d6f-cfb0-47140507f615"
      },
      "execution_count": 35,
      "outputs": [
        {
          "output_type": "stream",
          "name": "stdout",
          "text": [
            "44 짜장면\n"
          ]
        }
      ]
    },
    {
      "cell_type": "code",
      "source": [
        "import random\n",
        "\n",
        "com_plyaer , user , count = \"\", \"\", 1\n",
        "com_count ,usr_count , draw_count = 0, 0, 0\n",
        "\n",
        "def result() :\n",
        "  global com_count, usr_count, draw_count\n",
        "  if com_player == user :\n",
        "    print(count, \"번째 : \" + \"비겼습니다.\")\n",
        "    draw_count += 1\n",
        "  elif ((com_player == \"가위\") and (user == \"바위\")) or \\\n",
        "  ((com_player == \"바위\") and (user == \"보\")) or \\\n",
        "  ((com_player == \"보\") and (user == \"가위\")) :\n",
        "    print(count, \"번째 : \" + \"이겼습니다.\")\n",
        "    usr_count += 1\n",
        "  else :\n",
        "    print(count, \"번째 : \" + \"졌습니다.\")\n",
        "    com_count += 1\n",
        "\n",
        "print(\" ** [가위/바위/보] 게임 **\")\n",
        "\n",
        "while count != 8 :\n",
        "  com_player = random.choice([\"가위\", \"바위\", \"보\"])\n",
        "  user = input(\"가위/바위/보 중 하나를 입력 : \")\n",
        "  result()\n",
        "  count = count + 1\n",
        "\n",
        "print(\"====== 최종 스코어 ======\")\n",
        "print(\"컴퓨터 : \", com_count)\n",
        "print(\"사용자 : \", usr_count)\n",
        "print(\"비김 : \", draw_count)"
      ],
      "metadata": {
        "colab": {
          "base_uri": "https://localhost:8080/"
        },
        "id": "su4JxrysFhnk",
        "outputId": "4812cbb2-de79-479e-b494-e91bb9f22b1d"
      },
      "execution_count": 48,
      "outputs": [
        {
          "output_type": "stream",
          "name": "stdout",
          "text": [
            " ** [가위/바위/보] 게임 **\n",
            "가위/바위/보 중 하나를 입력 : 가위\n",
            "1 번째 : 졌습니다.\n",
            "가위/바위/보 중 하나를 입력 : 바위\n",
            "2 번째 : 비겼습니다.\n",
            "가위/바위/보 중 하나를 입력 : 가위\n",
            "3 번째 : 이겼습니다.\n",
            "가위/바위/보 중 하나를 입력 : 보\n",
            "4 번째 : 이겼습니다.\n",
            "가위/바위/보 중 하나를 입력 : 가위\n",
            "5 번째 : 졌습니다.\n",
            "가위/바위/보 중 하나를 입력 : 가위\n",
            "6 번째 : 비겼습니다.\n",
            "가위/바위/보 중 하나를 입력 : 가ㅜ이\n",
            "7 번째 : 졌습니다.\n",
            "====== 최종 스코어 ======\n",
            "컴퓨터 :  3\n",
            "사용자 :  2\n",
            "비김 :  2\n"
          ]
        }
      ]
    },
    {
      "cell_type": "code",
      "source": [
        "age = int(input(\"나이를 입력 ==>\"))\n",
        "\n",
        "if age >= 18 :\n",
        "  print(\"즐거운 시간되세요\")\n",
        "else :\n",
        "  print(\"집에 갈 시간이네요\")\n",
        "\n",
        "print(\"협조 감사합니다.\")"
      ],
      "metadata": {
        "colab": {
          "base_uri": "https://localhost:8080/"
        },
        "id": "Po7IvEtrkGLQ",
        "outputId": "ba90e8ad-98d8-4c95-ddae-edbe960f7b1d"
      },
      "execution_count": 49,
      "outputs": [
        {
          "output_type": "stream",
          "name": "stdout",
          "text": [
            "나이를 입력 ==>54\n",
            "즐거운 시간되세요\n",
            "협조 감사합니다.\n"
          ]
        }
      ]
    },
    {
      "cell_type": "code",
      "source": [
        "#!pip3 install ColabTurtle\n",
        "import ColabTurtle.Turtle as turtle\n",
        "import random\n",
        "turtle.initializeTurtle()\n",
        "print(turtle.DEFAULT_WINDOW_SIZE)\n",
        "\n",
        "while True :\n",
        "  turtle.left(random.randint(0,360))\n",
        "  turtle.forward(random.randint(100,200))\n",
        "  print(turtle.getx(), turtle.gety())\n",
        "  if 750 <= turtle.getx() or turtle.getx()<=90 or \\\n",
        "  (450 <= turtle.gety() or turtle.gety() <= 50) :\n",
        "\n",
        "   r = random.randint(0,255)\n",
        "   g = random.randint(0,255)\n",
        "   b = random.randint(0,255)\n",
        "   turtle.color((r,g,b))\n",
        "   turtle.goto(400,250)\n"
      ],
      "metadata": {
        "colab": {
          "base_uri": "https://localhost:8080/",
          "height": 851
        },
        "id": "e2OE7yd4mhO4",
        "outputId": "fbc73edf-f39a-4377-af4d-051f87c62e1a"
      },
      "execution_count": null,
      "outputs": [
        {
          "output_type": "display_data",
          "data": {
            "text/plain": [
              "<IPython.core.display.HTML object>"
            ],
            "text/html": [
              "\n",
              "      <svg width=\"800\" height=\"500\">\n",
              "        <rect width=\"100%\" height=\"100%\" fill=\"black\"/>\n",
              "        <line x1=\"400\" y1=\"250\" x2=\"475.726\" y2=\"153.075\" stroke-linecap=\"round\" style=\"stroke:white;stroke-width:4\"/><line x1=\"475.726\" y1=\"153.075\" x2=\"601.374\" y2=\"128.651\" stroke-linecap=\"round\" style=\"stroke:white;stroke-width:4\"/><line x1=\"601.374\" y1=\"128.651\" x2=\"566.289\" y2=\"13.894\" stroke-linecap=\"round\" style=\"stroke:white;stroke-width:4\"/><line x1=\"566.289\" y1=\"13.894\" x2=\"400\" y2=\"250\" stroke-linecap=\"round\" style=\"stroke:rgb(190,248,92);stroke-width:4\"/><line x1=\"400\" y1=\"250\" x2=\"560.004\" y2=\"142.076\" stroke-linecap=\"round\" style=\"stroke:rgb(190,248,92);stroke-width:4\"/><line x1=\"560.004\" y1=\"142.076\" x2=\"635.119\" y2=\"283.348\" stroke-linecap=\"round\" style=\"stroke:rgb(190,248,92);stroke-width:4\"/><line x1=\"635.119\" y1=\"283.348\" x2=\"721.13\" y2=\"140.201\" stroke-linecap=\"round\" style=\"stroke:rgb(190,248,92);stroke-width:4\"/><line x1=\"721.13\" y1=\"140.201\" x2=\"616.559\" y2=\"301.226\" stroke-linecap=\"round\" style=\"stroke:rgb(190,248,92);stroke-width:4\"/><line x1=\"616.559\" y1=\"301.226\" x2=\"546.827\" y2=\"151.685\" stroke-linecap=\"round\" style=\"stroke:rgb(190,248,92);stroke-width:4\"/><line x1=\"546.827\" y1=\"151.685\" x2=\"617.192\" y2=\"-6.358\" stroke-linecap=\"round\" style=\"stroke:rgb(190,248,92);stroke-width:4\"/><line x1=\"617.192\" y1=\"-6.358\" x2=\"400\" y2=\"250\" stroke-linecap=\"round\" style=\"stroke:rgb(8,133,113);stroke-width:4\"/><line x1=\"400\" y1=\"250\" x2=\"271.699\" y2=\"361.53\" stroke-linecap=\"round\" style=\"stroke:rgb(8,133,113);stroke-width:4\"/><line x1=\"271.699\" y1=\"361.53\" x2=\"406.208\" y2=\"240.417\" stroke-linecap=\"round\" style=\"stroke:rgb(8,133,113);stroke-width:4\"/><line x1=\"406.208\" y1=\"240.417\" x2=\"225.318\" y2=\"234.1\" stroke-linecap=\"round\" style=\"stroke:rgb(8,133,113);stroke-width:4\"/><line x1=\"225.318\" y1=\"234.1\" x2=\"310.276\" y2=\"339.015\" stroke-linecap=\"round\" style=\"stroke:rgb(8,133,113);stroke-width:4\"/><line x1=\"310.276\" y1=\"339.015\" x2=\"185.237\" y2=\"209.534\" stroke-linecap=\"round\" style=\"stroke:rgb(8,133,113);stroke-width:4\"/><line x1=\"185.237\" y1=\"209.534\" x2=\"268.287\" y2=\"99.322\" stroke-linecap=\"round\" style=\"stroke:rgb(8,133,113);stroke-width:4\"/><line x1=\"268.287\" y1=\"99.322\" x2=\"422.252\" y2=\"52.25\" stroke-linecap=\"round\" style=\"stroke:rgb(8,133,113);stroke-width:4\"/><line x1=\"422.252\" y1=\"52.25\" x2=\"468.767\" y2=\"-75.548\" stroke-linecap=\"round\" style=\"stroke:rgb(8,133,113);stroke-width:4\"/>\n",
              "        <g visibility=visible transform=\"rotate(380,468.767,-75.548) translate(450.767, -93.548)\">\n",
              "<path style=\" stroke:none;fill-rule:evenodd;fill:rgb(8,133,113);fill-opacity:1;\" d=\"M 18.214844 0.632812 C 16.109375 1.800781 15.011719 4.074219 15.074219 7.132812 L 15.085938 7.652344 L 14.785156 7.496094 C 13.476562 6.824219 11.957031 6.671875 10.40625 7.066406 C 8.46875 7.550781 6.515625 9.15625 4.394531 11.992188 C 3.0625 13.777344 2.679688 14.636719 3.042969 15.027344 L 3.15625 15.152344 L 3.519531 15.152344 C 4.238281 15.152344 4.828125 14.886719 8.1875 13.039062 C 9.386719 12.378906 10.371094 11.839844 10.378906 11.839844 C 10.386719 11.839844 10.355469 11.929688 10.304688 12.035156 C 9.832031 13.09375 9.257812 14.820312 8.96875 16.078125 C 7.914062 20.652344 8.617188 24.53125 11.070312 27.660156 C 11.351562 28.015625 11.363281 27.914062 10.972656 28.382812 C 8.925781 30.84375 7.945312 33.28125 8.238281 35.1875 C 8.289062 35.527344 8.28125 35.523438 8.917969 35.523438 C 10.941406 35.523438 13.074219 34.207031 15.136719 31.6875 C 15.359375 31.417969 15.328125 31.425781 15.5625 31.574219 C 16.292969 32.042969 18.023438 32.964844 18.175781 32.964844 C 18.335938 32.964844 19.941406 32.210938 20.828125 31.71875 C 20.996094 31.625 21.136719 31.554688 21.136719 31.558594 C 21.203125 31.664062 21.898438 32.414062 22.222656 32.730469 C 23.835938 34.300781 25.5625 35.132812 27.582031 35.300781 C 27.90625 35.328125 27.9375 35.308594 28.007812 34.984375 C 28.382812 33.242188 27.625 30.925781 25.863281 28.425781 L 25.542969 27.96875 L 25.699219 27.785156 C 28.945312 23.960938 29.132812 18.699219 26.257812 11.96875 L 26.207031 11.84375 L 27.945312 12.703125 C 31.53125 14.476562 32.316406 14.800781 33.03125 14.800781 C 33.976562 14.800781 33.78125 13.9375 32.472656 12.292969 C 28.519531 7.355469 25.394531 5.925781 21.921875 7.472656 L 21.558594 7.636719 L 21.578125 7.542969 C 21.699219 6.992188 21.761719 5.742188 21.699219 5.164062 C 21.496094 3.296875 20.664062 1.964844 19.003906 0.855469 C 18.480469 0.503906 18.457031 0.5 18.214844 0.632812\"/>\n",
              "</g>\n",
              "      </svg>\n",
              "    "
            ]
          },
          "metadata": {}
        },
        {
          "output_type": "stream",
          "name": "stdout",
          "text": [
            "(800, 500)\n",
            "475.726 153.075\n",
            "601.374 128.651\n",
            "566.289 13.894\n",
            "560.004 142.076\n",
            "635.119 283.348\n",
            "721.13 140.201\n",
            "616.559 301.226\n",
            "546.827 151.685\n",
            "617.192 -6.358\n",
            "271.699 361.53\n",
            "406.208 240.417\n",
            "225.318 234.1\n",
            "310.276 339.015\n",
            "185.237 209.534\n",
            "268.287 99.322\n",
            "422.252 52.25\n",
            "468.767 -75.548\n"
          ]
        }
      ]
    }
  ]
}