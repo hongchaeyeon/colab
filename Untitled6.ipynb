{
  "nbformat": 4,
  "nbformat_minor": 0,
  "metadata": {
    "colab": {
      "provenance": [],
      "authorship_tag": "ABX9TyPeyeSwSbPsP8EFqfyB3kmw",
      "include_colab_link": true
    },
    "kernelspec": {
      "name": "python3",
      "display_name": "Python 3"
    },
    "language_info": {
      "name": "python"
    }
  },
  "cells": [
    {
      "cell_type": "markdown",
      "metadata": {
        "id": "view-in-github",
        "colab_type": "text"
      },
      "source": [
        "<a href=\"https://colab.research.google.com/github/hongchaeyeon/colab/blob/main/Untitled6.ipynb\" target=\"_parent\"><img src=\"https://colab.research.google.com/assets/colab-badge.svg\" alt=\"Open In Colab\"/></a>"
      ]
    },
    {
      "cell_type": "markdown",
      "source": [
        "6장 예제"
      ],
      "metadata": {
        "id": "35G2TMo3KFSK"
      }
    },
    {
      "cell_type": "code",
      "execution_count": null,
      "metadata": {
        "colab": {
          "base_uri": "https://localhost:8080/"
        },
        "id": "_7BlEZ7yIJR1",
        "outputId": "194b4864-60ef-4976-ee4b-c851fbcfe856"
      },
      "outputs": [
        {
          "output_type": "stream",
          "name": "stdout",
          "text": [
            "안산공고 컴퓨터과 최고\n",
            "하이\n",
            "안산공고 컴퓨터과 최고\n",
            "하이\n",
            "안산공고 컴퓨터과 최고\n",
            "하이\n"
          ]
        }
      ],
      "source": [
        "for i in range(3) :\n",
        "  print(\"안산공고 컴퓨터과 최고\")\n",
        "  print(\"하이\")"
      ]
    },
    {
      "cell_type": "code",
      "source": [
        "myList = ['가위',1, 29,'안산','공고']\n",
        "temp = input(\"입력 : \")\n",
        "if temp in myList :\n",
        "  print(temp,\"리스트 목록에 있습니다.\")"
      ],
      "metadata": {
        "colab": {
          "base_uri": "https://localhost:8080/"
        },
        "id": "YP-PGoUpLO6Z",
        "outputId": "d36c5416-f830-4972-f250-0a562fc7f9bd"
      },
      "execution_count": null,
      "outputs": [
        {
          "output_type": "stream",
          "name": "stdout",
          "text": [
            "입력 : 안산\n",
            "안산 리스트 목록에 있습니다.\n"
          ]
        }
      ]
    },
    {
      "cell_type": "markdown",
      "source": [
        "형성 평가 학생 줄 세우기"
      ],
      "metadata": {
        "id": "oh67dSARMTnL"
      }
    },
    {
      "cell_type": "code",
      "source": [
        "a = 1\n",
        "for i in range(1,6,1) :\n",
        "  a = a*i\n",
        "print(\"A,B,C,D,E 학생들을 순서대로 세우는 경우의 수 : \", a)"
      ],
      "metadata": {
        "colab": {
          "base_uri": "https://localhost:8080/"
        },
        "id": "ZoodiD6AMTHy",
        "outputId": "793a7151-8c99-440b-ede5-40d5604f6af2"
      },
      "execution_count": null,
      "outputs": [
        {
          "output_type": "stream",
          "name": "stdout",
          "text": [
            "A,B,C,D,E 학생들을 순서대로 세우는 경우의 수 :  120\n"
          ]
        }
      ]
    },
    {
      "cell_type": "code",
      "source": [
        "hap = 0\n",
        "for i in range(1, 11,1) :\n",
        "  hap = hap + i\n",
        "print(\"1부터 10까지의 합 :\", hap)"
      ],
      "metadata": {
        "colab": {
          "base_uri": "https://localhost:8080/"
        },
        "id": "SBB0FxcdPhhF",
        "outputId": "3ca9b57e-3744-414d-c5c2-07ef1318ffe1"
      },
      "execution_count": null,
      "outputs": [
        {
          "output_type": "stream",
          "name": "stdout",
          "text": [
            "1부터 10까지의 합 : 55\n"
          ]
        }
      ]
    },
    {
      "cell_type": "code",
      "source": [
        "i, hap = 0,0\n",
        "for i in range(1001, 2001, 2) :\n",
        "  hap += i \n",
        "\n",
        "print('1000에서 2000까지의 홀수의 합 :', hap)"
      ],
      "metadata": {
        "colab": {
          "base_uri": "https://localhost:8080/"
        },
        "id": "XneJ_NvNPxUS",
        "outputId": "f479f9ce-68c1-4614-f81d-a7641e1bb794"
      },
      "execution_count": null,
      "outputs": [
        {
          "output_type": "stream",
          "name": "stdout",
          "text": [
            "1000에서 2000까지의 홀수의 합 : 750000\n"
          ]
        }
      ]
    },
    {
      "cell_type": "code",
      "source": [
        "for i in range(3) :\n",
        "  for k in range(2) :\n",
        "    print(\"난생처음은 쉽습니다. ^^(i값:\", i,',k값:',k,\")')\")\n"
      ],
      "metadata": {
        "colab": {
          "base_uri": "https://localhost:8080/"
        },
        "id": "2mZ__JR3QzPD",
        "outputId": "e57de195-0c08-4298-c71e-db81b04863f7"
      },
      "execution_count": null,
      "outputs": [
        {
          "output_type": "stream",
          "name": "stdout",
          "text": [
            "난생처음은 쉽습니다. ^^(i값: 0 ,k값: 0 )')\n",
            "난생처음은 쉽습니다. ^^(i값: 0 ,k값: 1 )')\n",
            "난생처음은 쉽습니다. ^^(i값: 1 ,k값: 0 )')\n",
            "난생처음은 쉽습니다. ^^(i값: 1 ,k값: 1 )')\n",
            "난생처음은 쉽습니다. ^^(i값: 2 ,k값: 0 )')\n",
            "난생처음은 쉽습니다. ^^(i값: 2 ,k값: 1 )')\n"
          ]
        }
      ]
    },
    {
      "cell_type": "code",
      "source": [
        "for i in range(2,10,1) :\n",
        "  for k in range(1,10,1) :\n",
        "    a = i * k\n",
        "    print(i,'X',k,'=', a)"
      ],
      "metadata": {
        "id": "c6sXnTzQUdXS"
      },
      "execution_count": null,
      "outputs": []
    },
    {
      "cell_type": "code",
      "source": [
        "for i in range(0,3,1):\n",
        "  print(i, \": 난생처음 파이썬은 재미있습니다. ^^\")"
      ],
      "metadata": {
        "id": "EKfDotvnWcvK"
      },
      "execution_count": null,
      "outputs": []
    },
    {
      "cell_type": "code",
      "source": [
        "i = 0\n",
        "while (i < 3) :\n",
        "  print(i,\"난생처음 파이썬은 재밌습니다. ^^\")\n",
        "  i = i+1"
      ],
      "metadata": {
        "id": "yezfkPP2WyFj",
        "outputId": "8ad030c3-5399-4f2b-935d-5c7c2b03737b",
        "colab": {
          "base_uri": "https://localhost:8080/"
        }
      },
      "execution_count": 5,
      "outputs": [
        {
          "output_type": "stream",
          "name": "stdout",
          "text": [
            "0 난생처음 파이썬은 재밌습니다. ^^\n",
            "1 난생처음 파이썬은 재밌습니다. ^^\n",
            "2 난생처음 파이썬은 재밌습니다. ^^\n"
          ]
        }
      ]
    },
    {
      "cell_type": "code",
      "source": [
        "hap = 0\n",
        "num1, num2 = 0,0\n",
        "\n",
        "while True :\n",
        "  num1 = int(input(\"숫자 1 ==>\"))\n",
        "  if num1 == 0 :\n",
        "    break \n",
        "  num2 = int(input(\"숫자 2 ==>\"))\n",
        "\n",
        "  hap = num1 + num2\n",
        "  print(num1, \"+\", num2, \"=\", hap)"
      ],
      "metadata": {
        "id": "eLbGHreMXfNy",
        "outputId": "2da212cf-c57d-4604-ee22-246c11c20d77",
        "colab": {
          "base_uri": "https://localhost:8080/"
        }
      },
      "execution_count": 7,
      "outputs": [
        {
          "name": "stdout",
          "output_type": "stream",
          "text": [
            "숫자 1 ==>0\n"
          ]
        }
      ]
    },
    {
      "cell_type": "markdown",
      "source": [
        "주사위 3개 돌리기"
      ],
      "metadata": {
        "id": "TTmKoqjHZsDe"
      }
    },
    {
      "cell_type": "code",
      "source": [
        "import random\n",
        "count = 0\n",
        "while True :\n",
        "  r1 = random.randint(1,6)\n",
        "  r2 = random.randint(1,6)\n",
        "  r3 = random.randint(1,6)\n",
        "  count = count + 1\n",
        "  if r1 == r2 == r3 :\n",
        "    break\n",
        "print(\"3개의 주사위는 모두\",r1,\"입니다.\")\n",
        "print(\"같은 숫자가 나오기까지\", count, \"번 던졌습니다.\")\n"
      ],
      "metadata": {
        "id": "paf-brQoZjpj"
      },
      "execution_count": null,
      "outputs": []
    },
    {
      "cell_type": "code",
      "source": [
        "import random\n",
        "my, com = 0,0\n",
        "for i in range(1,11) :\n",
        "    com=random.randint(1,5)\n",
        "    print(\"게임\" ,i, '회:', end='')\n",
        "    my = int(input('컴퓨터가 생각한 숫자는?'))\n",
        "\n",
        "    if my==com :\n",
        "        print(\"맞혔네요. 축하합니다!!\")\n",
        "        break\n",
        "    else :\n",
        "        print('틀렸네요',i,'(이)였습니다.')\n",
        "        continue\n",
        "print(\"게임을 마칩니다.\")\n",
        "5"
      ],
      "metadata": {
        "id": "bxvrY9JWdBgb",
        "outputId": "52dba90b-4f80-4475-a569-5ec58f3b45a7",
        "colab": {
          "base_uri": "https://localhost:8080/"
        }
      },
      "execution_count": null,
      "outputs": [
        {
          "output_type": "stream",
          "name": "stdout",
          "text": [
            "게임 1 회:"
          ]
        }
      ]
    }
  ]
}