{
  "nbformat": 4,
  "nbformat_minor": 0,
  "metadata": {
    "colab": {
      "provenance": [],
      "authorship_tag": "ABX9TyMDv17F7+tppIAabJ98cIJY",
      "include_colab_link": true
    },
    "kernelspec": {
      "name": "python3",
      "display_name": "Python 3"
    },
    "language_info": {
      "name": "python"
    }
  },
  "cells": [
    {
      "cell_type": "markdown",
      "metadata": {
        "id": "view-in-github",
        "colab_type": "text"
      },
      "source": [
        "<a href=\"https://colab.research.google.com/github/hongchaeyeon/colab/blob/main/Untitled6.ipynb\" target=\"_parent\"><img src=\"https://colab.research.google.com/assets/colab-badge.svg\" alt=\"Open In Colab\"/></a>"
      ]
    },
    {
      "cell_type": "markdown",
      "source": [
        "6장 예제"
      ],
      "metadata": {
        "id": "35G2TMo3KFSK"
      }
    },
    {
      "cell_type": "code",
      "execution_count": null,
      "metadata": {
        "colab": {
          "base_uri": "https://localhost:8080/"
        },
        "id": "_7BlEZ7yIJR1",
        "outputId": "194b4864-60ef-4976-ee4b-c851fbcfe856"
      },
      "outputs": [
        {
          "output_type": "stream",
          "name": "stdout",
          "text": [
            "안산공고 컴퓨터과 최고\n",
            "하이\n",
            "안산공고 컴퓨터과 최고\n",
            "하이\n",
            "안산공고 컴퓨터과 최고\n",
            "하이\n"
          ]
        }
      ],
      "source": [
        "for i in range(3) :\n",
        "  print(\"안산공고 컴퓨터과 최고\")\n",
        "  print(\"하이\")"
      ]
    },
    {
      "cell_type": "code",
      "source": [
        "myList = ['가위',1, 29,'안산','공고']\n",
        "temp = input(\"입력 : \")\n",
        "if temp in myList :\n",
        "  print(temp,\"리스트 목록에 있습니다.\")"
      ],
      "metadata": {
        "colab": {
          "base_uri": "https://localhost:8080/"
        },
        "id": "YP-PGoUpLO6Z",
        "outputId": "d36c5416-f830-4972-f250-0a562fc7f9bd"
      },
      "execution_count": null,
      "outputs": [
        {
          "output_type": "stream",
          "name": "stdout",
          "text": [
            "입력 : 안산\n",
            "안산 리스트 목록에 있습니다.\n"
          ]
        }
      ]
    },
    {
      "cell_type": "markdown",
      "source": [
        "형성 평가 학생 줄 세우기"
      ],
      "metadata": {
        "id": "oh67dSARMTnL"
      }
    },
    {
      "cell_type": "code",
      "source": [
        "a = 1\n",
        "for i in range(1,6,1) :\n",
        "  a = a*i\n",
        "print(\"A,B,C,D,E 학생들을 순서대로 세우는 경우의 수 : \", a)"
      ],
      "metadata": {
        "colab": {
          "base_uri": "https://localhost:8080/"
        },
        "id": "ZoodiD6AMTHy",
        "outputId": "793a7151-8c99-440b-ede5-40d5604f6af2"
      },
      "execution_count": null,
      "outputs": [
        {
          "output_type": "stream",
          "name": "stdout",
          "text": [
            "A,B,C,D,E 학생들을 순서대로 세우는 경우의 수 :  120\n"
          ]
        }
      ]
    },
    {
      "cell_type": "code",
      "source": [
        "hap = 0\n",
        "for i in range(1, 11,1) :\n",
        "  hap = hap + i\n",
        "print(\"1부터 10까지의 합 :\", hap)"
      ],
      "metadata": {
        "colab": {
          "base_uri": "https://localhost:8080/"
        },
        "id": "SBB0FxcdPhhF",
        "outputId": "3ca9b57e-3744-414d-c5c2-07ef1318ffe1"
      },
      "execution_count": null,
      "outputs": [
        {
          "output_type": "stream",
          "name": "stdout",
          "text": [
            "1부터 10까지의 합 : 55\n"
          ]
        }
      ]
    },
    {
      "cell_type": "code",
      "source": [
        "i, hap = 0,0\n",
        "for i in range(1001, 2001, 2) :\n",
        "  hap += i \n",
        "\n",
        "print('1000에서 2000까지의 홀수의 합 :', hap)"
      ],
      "metadata": {
        "colab": {
          "base_uri": "https://localhost:8080/"
        },
        "id": "XneJ_NvNPxUS",
        "outputId": "f479f9ce-68c1-4614-f81d-a7641e1bb794"
      },
      "execution_count": null,
      "outputs": [
        {
          "output_type": "stream",
          "name": "stdout",
          "text": [
            "1000에서 2000까지의 홀수의 합 : 750000\n"
          ]
        }
      ]
    },
    {
      "cell_type": "code",
      "source": [
        "for i in range(3) :\n",
        "  for k in range(2) :\n",
        "    print(\"난생처음은 쉽습니다. ^^(i값:\", i,',k값:',k,\")')\")\n"
      ],
      "metadata": {
        "colab": {
          "base_uri": "https://localhost:8080/"
        },
        "id": "2mZ__JR3QzPD",
        "outputId": "e57de195-0c08-4298-c71e-db81b04863f7"
      },
      "execution_count": null,
      "outputs": [
        {
          "output_type": "stream",
          "name": "stdout",
          "text": [
            "난생처음은 쉽습니다. ^^(i값: 0 ,k값: 0 )')\n",
            "난생처음은 쉽습니다. ^^(i값: 0 ,k값: 1 )')\n",
            "난생처음은 쉽습니다. ^^(i값: 1 ,k값: 0 )')\n",
            "난생처음은 쉽습니다. ^^(i값: 1 ,k값: 1 )')\n",
            "난생처음은 쉽습니다. ^^(i값: 2 ,k값: 0 )')\n",
            "난생처음은 쉽습니다. ^^(i값: 2 ,k값: 1 )')\n"
          ]
        }
      ]
    },
    {
      "cell_type": "code",
      "source": [
        "for i in range(2,10,1) :\n",
        "  for k in range(1,10,1) :\n",
        "    a = i * k\n",
        "    print(i,'X',k,'=', a)"
      ],
      "metadata": {
        "colab": {
          "base_uri": "https://localhost:8080/"
        },
        "id": "c6sXnTzQUdXS",
        "outputId": "94f2ed9b-61d8-4ebd-ef13-e25ebe3e1b24"
      },
      "execution_count": 4,
      "outputs": [
        {
          "output_type": "stream",
          "name": "stdout",
          "text": [
            "2 X 1 = 2\n",
            "2 X 2 = 4\n",
            "2 X 3 = 6\n",
            "2 X 4 = 8\n",
            "2 X 5 = 10\n",
            "2 X 6 = 12\n",
            "2 X 7 = 14\n",
            "2 X 8 = 16\n",
            "2 X 9 = 18\n",
            "3 X 1 = 3\n",
            "3 X 2 = 6\n",
            "3 X 3 = 9\n",
            "3 X 4 = 12\n",
            "3 X 5 = 15\n",
            "3 X 6 = 18\n",
            "3 X 7 = 21\n",
            "3 X 8 = 24\n",
            "3 X 9 = 27\n",
            "4 X 1 = 4\n",
            "4 X 2 = 8\n",
            "4 X 3 = 12\n",
            "4 X 4 = 16\n",
            "4 X 5 = 20\n",
            "4 X 6 = 24\n",
            "4 X 7 = 28\n",
            "4 X 8 = 32\n",
            "4 X 9 = 36\n",
            "5 X 1 = 5\n",
            "5 X 2 = 10\n",
            "5 X 3 = 15\n",
            "5 X 4 = 20\n",
            "5 X 5 = 25\n",
            "5 X 6 = 30\n",
            "5 X 7 = 35\n",
            "5 X 8 = 40\n",
            "5 X 9 = 45\n",
            "6 X 1 = 6\n",
            "6 X 2 = 12\n",
            "6 X 3 = 18\n",
            "6 X 4 = 24\n",
            "6 X 5 = 30\n",
            "6 X 6 = 36\n",
            "6 X 7 = 42\n",
            "6 X 8 = 48\n",
            "6 X 9 = 54\n",
            "7 X 1 = 7\n",
            "7 X 2 = 14\n",
            "7 X 3 = 21\n",
            "7 X 4 = 28\n",
            "7 X 5 = 35\n",
            "7 X 6 = 42\n",
            "7 X 7 = 49\n",
            "7 X 8 = 56\n",
            "7 X 9 = 63\n",
            "8 X 1 = 8\n",
            "8 X 2 = 16\n",
            "8 X 3 = 24\n",
            "8 X 4 = 32\n",
            "8 X 5 = 40\n",
            "8 X 6 = 48\n",
            "8 X 7 = 56\n",
            "8 X 8 = 64\n",
            "8 X 9 = 72\n",
            "9 X 1 = 9\n",
            "9 X 2 = 18\n",
            "9 X 3 = 27\n",
            "9 X 4 = 36\n",
            "9 X 5 = 45\n",
            "9 X 6 = 54\n",
            "9 X 7 = 63\n",
            "9 X 8 = 72\n",
            "9 X 9 = 81\n"
          ]
        }
      ]
    }
  ]
}