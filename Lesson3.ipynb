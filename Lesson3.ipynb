{
  "nbformat": 4,
  "nbformat_minor": 0,
  "metadata": {
    "colab": {
      "name": "Lesson3.ipynb",
      "provenance": [],
      "authorship_tag": "ABX9TyOmxoqIdqsUEcukMuEBB7bE",
      "include_colab_link": true
    },
    "kernelspec": {
      "name": "python3",
      "display_name": "Python 3"
    },
    "language_info": {
      "name": "python"
    }
  },
  "cells": [
    {
      "cell_type": "markdown",
      "metadata": {
        "id": "view-in-github",
        "colab_type": "text"
      },
      "source": [
        "<a href=\"https://colab.research.google.com/github/hongchaeyeon/colab/blob/main/Lesson3.ipynb\" target=\"_parent\"><img src=\"https://colab.research.google.com/assets/colab-badge.svg\" alt=\"Open In Colab\"/></a>"
      ]
    },
    {
      "cell_type": "code",
      "execution_count": 9,
      "metadata": {
        "colab": {
          "base_uri": "https://localhost:8080/"
        },
        "id": "9xB4md3cw0V8",
        "outputId": "28a5af13-5141-4f34-eabf-ef4ccdbf043b"
      },
      "outputs": [
        {
          "output_type": "stream",
          "name": "stdout",
          "text": [
            "파운드(lb)를 입력하세요 :15\n",
            "15 파운드(lb)는 6.80388 킬로그램(kg)입니다.\n",
            "킬로그램(kg)을 입력하세요 :15\n",
            "15 킬로그램(kg)은 33.06935 파운드(lb)입니다.\n"
          ]
        }
      ],
      "source": [
        "lb = int(input(\"파운드(lb)를 입력하세요 :\"))\n",
        "f = lb*0.453592\n",
        "print(lb,\"파운드(lb)는\",round(f,5),\"킬로그램(kg)입니다.\")\n",
        "kg = int(input(\"킬로그램(kg)을 입력하세요 :\"))\n",
        "k = kg*2.204623\n",
        "print(kg,'킬로그램(kg)은',round(k,5),\"파운드(lb)입니다.\")"
      ]
    }
  ]
}