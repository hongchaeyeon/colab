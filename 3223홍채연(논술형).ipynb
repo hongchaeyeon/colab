{
  "nbformat": 4,
  "nbformat_minor": 0,
  "metadata": {
    "colab": {
      "name": "3223홍채연(논술형).ipynb",
      "provenance": [],
      "authorship_tag": "ABX9TyOl9g07XQ/L4nHKR4BHkct9",
      "include_colab_link": true
    },
    "kernelspec": {
      "name": "python3",
      "display_name": "Python 3"
    },
    "language_info": {
      "name": "python"
    }
  },
  "cells": [
    {
      "cell_type": "markdown",
      "metadata": {
        "id": "view-in-github",
        "colab_type": "text"
      },
      "source": [
        "<a href=\"https://colab.research.google.com/github/hongchaeyeon/colab/blob/main/3223%ED%99%8D%EC%B1%84%EC%97%B0(%EB%85%BC%EC%88%A0%ED%98%95).ipynb\" target=\"_parent\"><img src=\"https://colab.research.google.com/assets/colab-badge.svg\" alt=\"Open In Colab\"/></a>"
      ]
    },
    {
      "cell_type": "markdown",
      "source": [
        "컴퓨터과 3학년 2반 23번 홍채연"
      ],
      "metadata": {
        "id": "mjFq9boaFGZ1"
      }
    },
    {
      "cell_type": "code",
      "execution_count": 3,
      "metadata": {
        "colab": {
          "base_uri": "https://localhost:8080/"
        },
        "id": "fNMkkYp4EsbO",
        "outputId": "ea3417d6-3a5f-418f-ef75-8731bdb19de5"
      },
      "outputs": [
        {
          "output_type": "stream",
          "name": "stdout",
          "text": [
            "숫자1 입력 ==>10.2\n",
            "숫자2 입력 ==>10\n",
            "10.2 + 10.0 = 20.2\n",
            "10.2 - 10.0 = 0.1999999999999993\n",
            "10.2 x 10.0 = 102.0\n",
            "10.2 / 10.0 = 1.02\n",
            "10.2 % 10.0 = 0.1999999999999993\n",
            "10.2 // 10.0 = 1.0\n",
            "10.2 ** 10.0 = 12189944199.947563\n"
          ]
        }
      ],
      "source": [
        "num1 = float(input(\"숫자1 입력 ==>\"))\n",
        "num2 = float(input(\"숫자2 입력 ==>\"))\n",
        "result1 = num1+num2\n",
        "result2 = num1-num2\n",
        "result3 = num1*num2\n",
        "result4 = num1/num2\n",
        "result5 = num1%num2\n",
        "result6 = num1//num2\n",
        "result7 = num1**num2\n",
        "print(num1,\"+\",num2,\"=\",result1)\n",
        "print(num1,\"-\",num2,\"=\",result2)\n",
        "print(num1,\"x\",num2,\"=\",result3)\n",
        "print(num1,\"/\",num2,\"=\",result4)\n",
        "print(num1,\"%\",num2,\"=\",result5)\n",
        "print(num1,\"//\",num2,\"=\",result6)\n",
        "print(num1,\"**\",num2,\"=\",result7)"
      ]
    }
  ]
}