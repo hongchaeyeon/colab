{
  "nbformat": 4,
  "nbformat_minor": 0,
  "metadata": {
    "colab": {
      "name": "Lession2.ipynb",
      "provenance": [],
      "authorship_tag": "ABX9TyPqSfVTyq5TRrcAwj3wr4Vh",
      "include_colab_link": true
    },
    "kernelspec": {
      "name": "python3",
      "display_name": "Python 3"
    },
    "language_info": {
      "name": "python"
    }
  },
  "cells": [
    {
      "cell_type": "markdown",
      "metadata": {
        "id": "view-in-github",
        "colab_type": "text"
      },
      "source": [
        "<a href=\"https://colab.research.google.com/github/hongchaeyeon/colab/blob/main/Lession2.ipynb\" target=\"_parent\"><img src=\"https://colab.research.google.com/assets/colab-badge.svg\" alt=\"Open In Colab\"/></a>"
      ]
    },
    {
      "cell_type": "markdown",
      "source": [
        "* 파이썬 2장\n",
        " * 변수와 input()함수\n",
        "\n"
      ],
      "metadata": {
        "id": "v4laaWGlB-vf"
      }
    },
    {
      "cell_type": "code",
      "execution_count": 1,
      "metadata": {
        "colab": {
          "base_uri": "https://localhost:8080/"
        },
        "id": "AZLgjcLqBgN9",
        "outputId": "aed3cbcc-7de4-4c37-eb56-bc940c959b7a"
      },
      "outputs": [
        {
          "output_type": "stream",
          "name": "stdout",
          "text": [
            "100 + 200 = 300\n",
            "100 - 200 = -100\n",
            "100 * 200 = 20000\n",
            "100 / 200 = 0.5\n"
          ]
        }
      ],
      "source": [
        "a = 100\n",
        "b = 200\n",
        "print(a,\"+\",b,\"=\",a+b)\n",
        "print(a,\"-\",b,\"=\",a-b)\n",
        "print(a,\"*\",b,\"=\",a*b)\n",
        "print(a,\"/\",b,\"=\",a/b)"
      ]
    },
    {
      "cell_type": "markdown",
      "source": [
        "* input()함수 예제"
      ],
      "metadata": {
        "id": "SWjtlLDiGoIP"
      }
    },
    {
      "cell_type": "code",
      "source": [
        "num1 = int(input(\"첫번째 숫자 입력 ==>\"))\n",
        "num2 = int(input(\"두번쨰 숫자 입력 ==>\"))\n",
        "result = num1 + num2\n",
        "print(num1, \"+\", num2, \"=\", result)"
      ],
      "metadata": {
        "colab": {
          "base_uri": "https://localhost:8080/"
        },
        "id": "QP5Fkl3rGnx9",
        "outputId": "11ef4096-d733-4ba0-cce1-d390035644a7"
      },
      "execution_count": 4,
      "outputs": [
        {
          "output_type": "stream",
          "name": "stdout",
          "text": [
            "첫번째 숫자 입력 ==>100\n",
            "두번쨰 숫자 입력 ==>200\n",
            "100 + 200 = 300\n"
          ]
        }
      ]
    },
    {
      "cell_type": "markdown",
      "source": [
        "* input()함수 이용해서 계산기"
      ],
      "metadata": {
        "id": "E6flqC9pIar3"
      }
    },
    {
      "cell_type": "code",
      "source": [
        "a = int(input(\"첫번째 숫자 입력 ==>\"))\n",
        "b = int(input(\"두번쨰 숫자 입력 ==>\"))\n",
        "result1 = a+b\n",
        "result2 = a-b\n",
        "result3 = a*b\n",
        "result4 = a/b\n",
        "print(a,\"+\",b,\"=\",result1)\n",
        "print(a,\"-\",b,\"=\",result2)\n",
        "print(a,\"*\",b,\"=\",result3)\n",
        "print(a,\"x\",b,\"=\",result4)"
      ],
      "metadata": {
        "colab": {
          "base_uri": "https://localhost:8080/"
        },
        "id": "UsK9iOSEH5mP",
        "outputId": "43301db9-62cf-4dfe-8d91-2c5e1fbb64aa"
      },
      "execution_count": 6,
      "outputs": [
        {
          "output_type": "stream",
          "name": "stdout",
          "text": [
            "첫번째 숫자 입력 ==>100\n",
            "두번쨰 숫자 입력 ==>200\n",
            "100 + 200 = 300\n",
            "100 - 200 = -100\n",
            "100 * 200 = 20000\n",
            "100 / 200 = 0.5\n"
          ]
        }
      ]
    }
  ]
}