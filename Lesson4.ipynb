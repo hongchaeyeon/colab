{
  "nbformat": 4,
  "nbformat_minor": 0,
  "metadata": {
    "colab": {
      "name": "Lesson4.ipynb",
      "provenance": [],
      "authorship_tag": "ABX9TyNNDbDJ3Jrny7KC+yAGwuAR",
      "include_colab_link": true
    },
    "kernelspec": {
      "name": "python3",
      "display_name": "Python 3"
    },
    "language_info": {
      "name": "python"
    }
  },
  "cells": [
    {
      "cell_type": "markdown",
      "metadata": {
        "id": "view-in-github",
        "colab_type": "text"
      },
      "source": [
        "<a href=\"https://colab.research.google.com/github/hongchaeyeon/colab/blob/main/Lesson4.ipynb\" target=\"_parent\"><img src=\"https://colab.research.google.com/assets/colab-badge.svg\" alt=\"Open In Colab\"/></a>"
      ]
    },
    {
      "cell_type": "code",
      "execution_count": 1,
      "metadata": {
        "colab": {
          "base_uri": "https://localhost:8080/"
        },
        "id": "oDIx7dx2a24T",
        "outputId": "339a3696-82ce-4f93-8c0d-9e3c12d919d3"
      },
      "outputs": [
        {
          "output_type": "stream",
          "name": "stdout",
          "text": [
            "var1 변수의 데이터 타입은 <class 'int'>\n",
            "var2 변수의 데이터 타입은 <class 'float'>\n",
            "var3 변수의 데이터 타입은 <class 'str'>\n",
            "var4 변수의 데이터 타입은 <class 'bool'>\n"
          ]
        }
      ],
      "source": [
        "var1=100\n",
        "var2=3.14\n",
        "var3=\"안산공고\"\n",
        "var4=True\n",
        "print(\"var1 변수의 데이터 타입은\", type(var1))\n",
        "print(\"var2 변수의 데이터 타입은\", type(var2))\n",
        "print(\"var3 변수의 데이터 타입은\", type(var3))\n",
        "print(\"var4 변수의 데이터 타입은\", type(var4))"
      ]
    },
    {
      "cell_type": "markdown",
      "source": [
        "이스케이프 예제"
      ],
      "metadata": {
        "id": "iGfz7dfQi6-Y"
      }
    },
    {
      "cell_type": "code",
      "source": [
        "print(\"\\n줄바꿈\\n연습\")\n",
        "print(\"\\t탭키\\t연습\")\n",
        "print(\"어떤 글자를 \\\"강조\\\"하는 효과1\")\n",
        "print(\"어떤 글자를 \\'강조\\'하는 효과2\")\n",
        "print(\"\\\\\\\\ 백슬래시 2개 출력\")"
      ],
      "metadata": {
        "colab": {
          "base_uri": "https://localhost:8080/"
        },
        "id": "kArXOSoai824",
        "outputId": "8dd232bf-e130-4fb5-e43d-38a854f9338a"
      },
      "execution_count": 4,
      "outputs": [
        {
          "output_type": "stream",
          "name": "stdout",
          "text": [
            "\n",
            "줄바꿈\n",
            "연습\n",
            "\t탭키\t연습\n",
            "어떤 글자를 \"강조\"하는 효과1\n",
            "어떤 글자를 '강조'하는 효과2\n",
            "\\\\ 백슬래시 2개 출력\n"
          ]
        }
      ]
    },
    {
      "cell_type": "markdown",
      "source": [
        "두 문자열을 입력 받고 두 문자열의 길이 차이를 체크하기"
      ],
      "metadata": {
        "id": "Q0-mN7Ualyy5"
      }
    },
    {
      "cell_type": "code",
      "source": [
        "var1=input(\"첫 번째 문자열 ==>\")\n",
        "var2=input(\"두 번째 문자열 ==>\")\n",
        "len1=len(var1)\n",
        "len2=len(var2)\n",
        "a= len1 -len2\n",
        "print(\"두 문자열의 길이 차이는\",a,\"입니다.\")"
      ],
      "metadata": {
        "colab": {
          "base_uri": "https://localhost:8080/"
        },
        "id": "e-1FsJ-5l2xo",
        "outputId": "190f3b24-0503-4f73-cb86-efd30d1b5eb3"
      },
      "execution_count": 7,
      "outputs": [
        {
          "output_type": "stream",
          "name": "stdout",
          "text": [
            "첫 번째 문자열 ==>난생처음 파이썬\n",
            "두 번째 문자열 ==>First Python\n",
            "두 문자열의 길이 차이는 -4 입니다.\n"
          ]
        }
      ]
    },
    {
      "cell_type": "markdown",
      "source": [
        "문자열 변환"
      ],
      "metadata": {
        "id": "QOZCBXpXpeio"
      }
    },
    {
      "cell_type": "code",
      "source": [
        "str1 = input(\"문자열 입력:\")\n",
        "print(\"입력된 문자열의 길이 :\", len(str1))\n",
        "print(\"입력된 문자열을 대문자로 변환 :\", str1.upper())\n",
        "print(\"입력된 문자열을 소문자로 변환 :\", str1.lower())\n",
        "print(\"입력된 문자열 중 ansan 몇번 나오는지 : :\",str1.count(\"ansan\"))\n",
        "print(\"입력된 문자열은 대문자인가요?\",str1.isupper())\n",
        "print(\"입력된 문자열은 소문자인가요?\",str1.islower())\n"
      ],
      "metadata": {
        "colab": {
          "base_uri": "https://localhost:8080/"
        },
        "id": "vab7KQ_7pfth",
        "outputId": "b9e598c1-4171-4345-b555-5f25a8c34fe4"
      },
      "execution_count": 8,
      "outputs": [
        {
          "output_type": "stream",
          "name": "stdout",
          "text": [
            "문자열 입력:Ansan Technical High School, Ansan-Si, Ansan lake\n",
            "입력된 문자열의 길이 : 49\n",
            "입력된 문자열을 대문자로 변환 : ANSAN TECHNICAL HIGH SCHOOL, ANSAN-SI, ANSAN LAKE\n",
            "입력된 문자열을 소문자로 변환 : ansan technical high school, ansan-si, ansan lake\n",
            "입력된 문자열 중 ansan 몇번 나오는지 : : 0\n",
            "입력된 문자열은 대문자인가요? False\n",
            "입력된 문자열은 소문자인가요? False\n"
          ]
        }
      ]
    },
    {
      "cell_type": "markdown",
      "source": [
        "let it be 가사 중 let it be가 몇번 나오는지"
      ],
      "metadata": {
        "id": "CkDkK9UEq7Ih"
      }
    },
    {
      "cell_type": "code",
      "source": [
        "song=\"\"\"When I find myself in times of trouble\n",
        "Mother Mary comes to me\n",
        "Speaking words of wisdom let it be\n",
        "And in my hour of darkness\n",
        "She is standing right in front of me\n",
        "Speaking words of wisdom let it be\n",
        "\n",
        "Let it be let it be\n",
        "Let it be let it be\n",
        "Whisper words of wisdom let it be\n",
        "\n",
        "And when the broken-hearted people\n",
        "Living in the world agree\n",
        "There will be an answer let it be\n",
        "For though they may be parted\n",
        "There is still a chance that they will see\n",
        "There will be an answer let it be\n",
        "\n",
        "Let it be let it be\n",
        "Let it be let it be\n",
        "Yeah there will be an answer let it be\n",
        "Let it be let it be\n",
        "Let it be let it be\n",
        "Whisper words of wisdom let it be\n",
        "\n",
        "Let it be let it be\n",
        "Ah let it be yeah let it be\n",
        "Whisper words of wisdom let it be\n",
        "\n",
        "And when the night is cloudy\n",
        "There is still a light that shines on me\n",
        "Shine on until tomorrow let it be\n",
        "I wake up to the sound of music\n",
        "Mother Mary comes to me\n",
        "Speaking words of wisdom let it be\n",
        "\n",
        "Let it be let it be\n",
        "Let it be yeah let it be\n",
        "Oh there will be an answer let it be\n",
        "Let it be let it be\n",
        "Let it be yeah let it be\n",
        "Whisper words of wisdom let it be\n",
        "\"\"\"\n",
        "a= song.upper()\n",
        "b= a.count(\"LET IT BE\")\n",
        "print(\"Let it be는 총\",b,\"번 나옵니다.\")    "
      ],
      "metadata": {
        "colab": {
          "base_uri": "https://localhost:8080/"
        },
        "id": "HCEA5vaXq_rK",
        "outputId": "58c50121-206e-4ad4-b5dc-7489c658b524"
      },
      "execution_count": 18,
      "outputs": [
        {
          "output_type": "stream",
          "name": "stdout",
          "text": [
            "Let it be는 총 36 번 나옵니다.\n"
          ]
        }
      ]
    },
    {
      "cell_type": "markdown",
      "source": [
        "yesterday 가사 yesterday 갯수"
      ],
      "metadata": {
        "id": "3_qPIEJov6ma"
      }
    },
    {
      "cell_type": "code",
      "source": [
        "song=\"\"\"Yesterday\n",
        "all my troubles seemed\n",
        "so far away\n",
        "Now it looks as though\n",
        "they're here to stay\n",
        "Oh I believe in yesterday\n",
        "Suddenly\n",
        "I'm not half the man\n",
        "I used to be\n",
        "There's a shadow\n",
        "hanging over me\n",
        "Oh yesterday came suddenly\n",
        "Why she had to go\n",
        "I don't know she wouldn't say\n",
        "I said something wrong\n",
        "now I long for yesterday\n",
        "Yesterday\n",
        "love was such an easy\n",
        "game to play\n",
        "Now I need a place to hide away\n",
        "Oh I believe in yesterday\n",
        "Why she had to go\n",
        "I don't know she wouldn't say\n",
        "I said something wrong\n",
        "now I long for yesterday\n",
        "Yesterday\n",
        "love was such an easy\n",
        "game to play\n",
        "Now I need a place to hide away\n",
        "Oh I believe in yesterday\n",
        "Mm mm mm mm mm mm mm\n",
        "\"\"\"\n",
        "a= song.upper()\n",
        "b= a.count(\"YESTERDAY\")\n",
        "print(\"Yesterday는 총\",b,\"번 나옵니다.\")   "
      ],
      "metadata": {
        "colab": {
          "base_uri": "https://localhost:8080/"
        },
        "id": "pNVJvPNKv_eQ",
        "outputId": "8330b94b-5258-4473-8e6e-76e14862a273"
      },
      "execution_count": 17,
      "outputs": [
        {
          "output_type": "stream",
          "name": "stdout",
          "text": [
            "Yesterday는 총 9 번 나옵니다.\n"
          ]
        }
      ]
    },
    {
      "cell_type": "markdown",
      "source": [
        "리스트 예제"
      ],
      "metadata": {
        "id": "seSHFgNcypI6"
      }
    },
    {
      "cell_type": "code",
      "source": [
        "myList =[10,20,30, \"안산\",\"공고\",\"배트맨\"]\n",
        "#print(myList)\n",
        "print(myList[3])\n",
        "print(myList[2:4])"
      ],
      "metadata": {
        "colab": {
          "base_uri": "https://localhost:8080/"
        },
        "id": "Yo2kehdWyomb",
        "outputId": "0c252f79-dea7-4d87-beca-262bddeec651"
      },
      "execution_count": 20,
      "outputs": [
        {
          "output_type": "stream",
          "name": "stdout",
          "text": [
            "[10, 20, 30, '안산', '공고', '배트맨']\n"
          ]
        }
      ]
    },
    {
      "cell_type": "code",
      "source": [
        "str1=\"안산공고 컴퓨터과 파이썬 수업\"\n",
        "print(str1[0])\n",
        "print(str1[0:4])\n",
        "print(str1[10:13])"
      ],
      "metadata": {
        "colab": {
          "base_uri": "https://localhost:8080/"
        },
        "id": "gGrmXd4Ozgdh",
        "outputId": "6998b294-304a-4582-fae9-fe5efc011ba2"
      },
      "execution_count": 23,
      "outputs": [
        {
          "output_type": "stream",
          "name": "stdout",
          "text": [
            "안\n",
            "안산공고\n",
            "파이썬\n"
          ]
        }
      ]
    },
    {
      "cell_type": "markdown",
      "source": [
        "형성평가 문자열을 거꾸로 출력"
      ],
      "metadata": {
        "id": "BWTg4kS70URE"
      }
    },
    {
      "cell_type": "code",
      "source": [
        "singer = input(\"가수 이름을 입력 :\")\n",
        "singer_length = len(singer)\n",
        "r_singer=\"\"\n",
        "while singer_length > 0:\n",
        "  r_singer = r_singer + singer[singer_length-1]\n",
        "  singer_length = singer_length -1\n",
        "print(r_singer)"
      ],
      "metadata": {
        "id": "lToY3fvJ0Tsp"
      },
      "execution_count": null,
      "outputs": []
    },
    {
      "cell_type": "code",
      "source": [
        "ss = input(\"원본 문자열==>\")\n",
        "ss == ss.isupper()\n",
        "\n",
        "\n",
        "\n"
      ],
      "metadata": {
        "colab": {
          "base_uri": "https://localhost:8080/"
        },
        "id": "rcif1YYL4wza",
        "outputId": "c4bae2c8-ee14-4240-f32f-dfa208780225"
      },
      "execution_count": 62,
      "outputs": [
        {
          "name": "stdout",
          "output_type": "stream",
          "text": [
            "원본 문자열==>Python\n"
          ]
        },
        {
          "output_type": "execute_result",
          "data": {
            "text/plain": [
              "False"
            ]
          },
          "metadata": {},
          "execution_count": 62
        }
      ]
    }
  ]
}